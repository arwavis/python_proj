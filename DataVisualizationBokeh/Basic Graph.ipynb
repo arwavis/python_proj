{
 "cells": [
  {
   "cell_type": "code",
   "execution_count": 1,
   "id": "d6082b33",
   "metadata": {},
   "outputs": [],
   "source": [
    "# Making a basic Bokeh line graph\n",
    "\n",
    "#importing Bokeh\n",
    "from bokeh.plotting import figure\n",
    "from bokeh.io import output_file, show\n",
    "\n",
    "#Prepare some data\n",
    "\n",
    "x= [1,2,3,4,5]\n",
    "y =[6,7,8,9,10]\n",
    "\n",
    "#Prepare the output file\n",
    "\n",
    "output_file(\"Line.html\")\n",
    "\n",
    "# Create figure object\n",
    "f= figure()\n",
    "\n",
    "# create line plot\n",
    "f.line(x,y)\n",
    "\n",
    "# Write the plot in the figure object\n",
    "show (f)"
   ]
  },
  {
   "cell_type": "code",
   "execution_count": 2,
   "id": "302a641d",
   "metadata": {},
   "outputs": [],
   "source": [
    "#building a triange graph\n",
    "\n",
    "x = [10,20,30,40,50]\n",
    "y = [60,70,80,90,100]\n",
    "\n",
    "output_file(\"triangle.html\")\n",
    "t= figure()\n",
    "t.triangle(x,y)\n",
    "show (t)"
   ]
  },
  {
   "cell_type": "code",
   "execution_count": 3,
   "id": "b573f777",
   "metadata": {},
   "outputs": [],
   "source": [
    "#building a circle graph\n",
    "\n",
    "x = [100,200,300,400,500]\n",
    "y = [600,700,800,900,1000]\n",
    "\n",
    "output_file(\"circle.html\")\n",
    "c= figure()\n",
    "c.circle(x,y)\n",
    "show (c)"
   ]
  },
  {
   "cell_type": "code",
   "execution_count": 4,
   "id": "36845d4c",
   "metadata": {},
   "outputs": [
    {
     "name": "stdout",
     "output_type": "stream",
     "text": [
      "   x   y\n",
      "0  1   6\n",
      "1  2   7\n",
      "2  3   8\n",
      "3  4   9\n",
      "4  5  10\n"
     ]
    }
   ],
   "source": [
    "#Creating a graph from csv file\n",
    "\n",
    "import pandas\n",
    "\n",
    "df =pandas.read_csv(\"data.csv\")\n",
    "x= df[\"x\"]\n",
    "y= df[\"y\"]\n",
    "\n",
    "print(df)\n",
    "\n",
    "output_file(\"Line.html\")\n",
    "\n",
    "# Create figure object\n",
    "f= figure()\n",
    "\n",
    "# create line plot\n",
    "f.line(x,y)\n",
    "\n",
    "# Write the plot in the figure object\n",
    "show (f)"
   ]
  },
  {
   "cell_type": "code",
   "execution_count": 5,
   "id": "b0c703ec",
   "metadata": {},
   "outputs": [],
   "source": [
    "bachelordf = pandas.read_csv(\"bachelors.csv\")\n",
    "\n",
    "\n",
    "x = bachelordf[\"Year\"]\n",
    "y = bachelordf[\"Engineering\"]\n",
    "\n",
    "output_file(\"bachelor.html\")\n",
    "f= figure()\n",
    "f.line(x,y)\n",
    "show (f)"
   ]
  },
  {
   "cell_type": "markdown",
   "id": "655c9783",
   "metadata": {},
   "source": [
    "You can add a title to the plot, set the figure width and height, change title font, etc. Below is a summary of properties which can be added to change the style of the plot:"
   ]
  },
  {
   "cell_type": "code",
   "execution_count": 6,
   "id": "1c21e345",
   "metadata": {},
   "outputs": [],
   "source": [
    "import pandas\n",
    "from bokeh.plotting import figure, output_file, show\n",
    " \n",
    "p=figure(plot_width=500,plot_height=400, tools='pan')\n",
    " \n",
    "p.title.text=\"Cool Data\"\n",
    "p.title.text_color=\"Gray\"\n",
    "p.title.text_font=\"times\"\n",
    "p.title.text_font_style=\"bold\"\n",
    "p.xaxis.minor_tick_line_color=None\n",
    "p.yaxis.minor_tick_line_color=None\n",
    "p.xaxis.axis_label=\"Date\"\n",
    "p.yaxis.axis_label=\"Intensity\"    \n",
    " \n",
    "p.line([1,2,3],[4,5,6])\n",
    "output_file(\"graph.html\")\n",
    "show(p)"
   ]
  },
  {
   "cell_type": "markdown",
   "id": "0e90161a",
   "metadata": {},
   "source": [
    "Solution: Plotting Weather Data"
   ]
  },
  {
   "cell_type": "code",
   "execution_count": 7,
   "id": "f0dfde45",
   "metadata": {},
   "outputs": [],
   "source": [
    "import pandas\n",
    " \n",
    "from bokeh.plotting import figure, output_file, show\n",
    " \n",
    "df=pandas.read_excel(\"verlegenhuken.xlsx\",sheet_name=0)\n",
    "df[\"Temperature\"]=df[\"Temperature\"]/10\n",
    "df[\"Pressure\"]=df[\"Pressure\"]/10\n",
    " \n",
    "p=figure(plot_width=500,plot_height=400,tools='pan')\n",
    " \n",
    "p.title.text=\"Temperature and Air Pressure\"\n",
    "p.title.text_color=\"Gray\"\n",
    "p.title.text_font=\"arial\"\n",
    "p.title.text_font_style=\"bold\"\n",
    "p.xaxis.minor_tick_line_color=None\n",
    "p.yaxis.minor_tick_line_color=None\n",
    "p.xaxis.axis_label=\"Temperature (°C)\"\n",
    "p.yaxis.axis_label=\"Pressure (hPa)\"    \n",
    " \n",
    "p.circle(df[\"Temperature\"],df[\"Pressure\"],size=0.5)\n",
    "output_file(\"Weather.html\")\n",
    "show(p)"
   ]
  },
  {
   "cell_type": "markdown",
   "id": "764950af",
   "metadata": {},
   "source": [
    "Changing Visual Attributes\n",
    "Once you have built a basic plot, you can customize its visual attributes, including changing the title color and font, adding labels for xaxis and yaxis, changing the color of the axis ticks, etc. All these properties are illustrated in the diagram below:"
   ]
  },
  {
   "cell_type": "code",
   "execution_count": 8,
   "id": "82c69cea",
   "metadata": {},
   "outputs": [],
   "source": [
    "from bokeh.plotting import figure, output_file, show\n",
    "p = figure(plot_width=500, plot_height=400, tools = 'pan, reset')\n",
    "p.title.text = \"Earthquakes\"\n",
    "p.title.text_color = \"Orange\"\n",
    "p.title.text_font = \"times\"\n",
    "p.title.text_font_style = \"italic\"\n",
    "p.yaxis.minor_tick_line_color = \"Yellow\"\n",
    "p.xaxis.axis_label = \"Times\"\n",
    "p.yaxis.axis_label = \"Value\"\n",
    "p.circle([1,2,3,4,5], [5,6,5,5,3], size = [i*2 for i in [8,12,14,15,20]], color=\"red\", alpha=0.5)\n",
    "output_file(\"Scatter_plotting.html\")\n",
    "show(p)"
   ]
  },
  {
   "cell_type": "markdown",
   "id": "6c9ec134",
   "metadata": {},
   "source": [
    "To Get Multiple Graphs"
   ]
  },
  {
   "cell_type": "code",
   "execution_count": 9,
   "id": "8a6230ea",
   "metadata": {},
   "outputs": [],
   "source": [
    "from bokeh.plotting import figure, output_file, show\n",
    "p = figure(plot_width=500, plot_height=400, tools = 'pan, reset')\n",
    "p.title.text = \"Earthquakes\"\n",
    "p.title.text_color = \"Orange\"\n",
    "p.title.text_font = \"times\"\n",
    "p.title.text_font_style = \"italic\"\n",
    "p.yaxis.minor_tick_line_color = \"Yellow\"\n",
    "p.xaxis.axis_label = \"Times\"\n",
    "p.yaxis.axis_label = \"Value\"\n",
    "p.circle([1,2,3,4,5], [5,6,5,5,3], size = [i*2 for i in [8,12,14,15,20]], color=\"red\", alpha=0.5)\n",
    "p.line([i*2 for i in [1,2,3,4,5]], [5,6,5,5,3], line_width=2, color=\"Olive\", alpha=0.5)\n",
    "output_file(\"Scatter_plotting.html\")\n",
    "show(p)"
   ]
  },
  {
   "cell_type": "code",
   "execution_count": 10,
   "id": "a8c78feb",
   "metadata": {},
   "outputs": [],
   "source": [
    "from bokeh.plotting import figure, output_file, show\n",
    "import pandas\n",
    "\n",
    "#df = pandas.read_csv(\"http://www.google.com/finance/historical?q=NASDAQ:ADBE&startdate=Jan+01%2C+2009&enddate=Aug+2%2C+2012&output=csv\",parse_dates=[\"Date\"])\n",
    "df =pandas.read_csv(\"adbe.csv\",parse_dates=[\"Date\"])\n",
    "p =figure(width=500,height=250,x_axis_type=\"datetime\")\n",
    "\n",
    "p.line(df[\"Date\"],df[\"Close\"],color=\"Orange\",alpha=0.5)\n",
    "output_file(\"Timeseries.html\")\n",
    "show(p)"
   ]
  }
 ],
 "metadata": {
  "kernelspec": {
   "display_name": "Python 3 (ipykernel)",
   "language": "python",
   "name": "python3"
  },
  "language_info": {
   "codemirror_mode": {
    "name": "ipython",
    "version": 3
   },
   "file_extension": ".py",
   "mimetype": "text/x-python",
   "name": "python",
   "nbconvert_exporter": "python",
   "pygments_lexer": "ipython3",
   "version": "3.9.7"
  }
 },
 "nbformat": 4,
 "nbformat_minor": 5
}
