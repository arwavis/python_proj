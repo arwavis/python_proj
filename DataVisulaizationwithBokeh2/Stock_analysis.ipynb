{
 "cells": [
  {
   "cell_type": "code",
   "execution_count": 20,
   "id": "1f67b8f2",
   "metadata": {
    "scrolled": true
   },
   "outputs": [
    {
     "name": "stdout",
     "output_type": "stream",
     "text": [
      "Requirement already satisfied: pandas_datareader in c:\\programdata\\anaconda3\\lib\\site-packages (0.10.0)"
     ]
    },
    {
     "name": "stderr",
     "output_type": "stream",
     "text": [
      "WARNING: Ignoring invalid distribution - (c:\\programdata\\anaconda3\\lib\\site-packages)\n",
      "WARNING: Ignoring invalid distribution -arkupsafe (c:\\programdata\\anaconda3\\lib\\site-packages)\n",
      "WARNING: Ignoring invalid distribution - (c:\\programdata\\anaconda3\\lib\\site-packages)\n",
      "WARNING: Ignoring invalid distribution -arkupsafe (c:\\programdata\\anaconda3\\lib\\site-packages)\n",
      "WARNING: Ignoring invalid distribution - (c:\\programdata\\anaconda3\\lib\\site-packages)\n",
      "WARNING: Ignoring invalid distribution -arkupsafe (c:\\programdata\\anaconda3\\lib\\site-packages)\n",
      "WARNING: Ignoring invalid distribution - (c:\\programdata\\anaconda3\\lib\\site-packages)\n",
      "WARNING: Ignoring invalid distribution -arkupsafe (c:\\programdata\\anaconda3\\lib\\site-packages)\n",
      "WARNING: Ignoring invalid distribution - (c:\\programdata\\anaconda3\\lib\\site-packages)\n",
      "WARNING: Ignoring invalid distribution -arkupsafe (c:\\programdata\\anaconda3\\lib\\site-packages)\n",
      "WARNING: Ignoring invalid distribution - (c:\\programdata\\anaconda3\\lib\\site-packages)\n",
      "WARNING: Ignoring invalid distribution -arkupsafe (c:\\programdata\\anaconda3\\lib\\site-packages)\n"
     ]
    },
    {
     "name": "stdout",
     "output_type": "stream",
     "text": [
      "\n",
      "Requirement already satisfied: pandas>=0.23 in c:\\programdata\\anaconda3\\lib\\site-packages (from pandas_datareader) (1.3.4)\n",
      "Requirement already satisfied: lxml in c:\\programdata\\anaconda3\\lib\\site-packages (from pandas_datareader) (4.6.3)\n",
      "Requirement already satisfied: requests>=2.19.0 in c:\\programdata\\anaconda3\\lib\\site-packages (from pandas_datareader) (2.26.0)\n",
      "Requirement already satisfied: python-dateutil>=2.7.3 in c:\\programdata\\anaconda3\\lib\\site-packages (from pandas>=0.23->pandas_datareader) (2.8.2)\n",
      "Requirement already satisfied: pytz>=2017.3 in c:\\programdata\\anaconda3\\lib\\site-packages (from pandas>=0.23->pandas_datareader) (2021.3)\n",
      "Requirement already satisfied: numpy>=1.17.3 in c:\\programdata\\anaconda3\\lib\\site-packages (from pandas>=0.23->pandas_datareader) (1.20.3)\n",
      "Requirement already satisfied: six>=1.5 in c:\\programdata\\anaconda3\\lib\\site-packages (from python-dateutil>=2.7.3->pandas>=0.23->pandas_datareader) (1.16.0)\n",
      "Requirement already satisfied: urllib3<1.27,>=1.21.1 in c:\\programdata\\anaconda3\\lib\\site-packages (from requests>=2.19.0->pandas_datareader) (1.26.7)\n",
      "Requirement already satisfied: charset-normalizer~=2.0.0 in c:\\programdata\\anaconda3\\lib\\site-packages (from requests>=2.19.0->pandas_datareader) (2.0.4)\n",
      "Requirement already satisfied: idna<4,>=2.5 in c:\\programdata\\anaconda3\\lib\\site-packages (from requests>=2.19.0->pandas_datareader) (3.2)\n",
      "Requirement already satisfied: certifi>=2017.4.17 in c:\\programdata\\anaconda3\\lib\\site-packages (from requests>=2.19.0->pandas_datareader) (2021.10.8)\n"
     ]
    }
   ],
   "source": [
    "# !pip install pandas_datareader"
   ]
  },
  {
   "cell_type": "code",
   "execution_count": 56,
   "id": "3364b2e1",
   "metadata": {},
   "outputs": [],
   "source": [
    "from pandas_datareader import data\n",
    "import datetime \n",
    "from bokeh.plotting import figure, show, output_file\n",
    "\n",
    "start=datetime.datetime(2015,11,1)\n",
    "end =datetime.datetime(2016,3,10)\n",
    "df=data.DataReader(name= \"AAPL\", data_source=\"yahoo\",start=start,end=end)\n",
    "df\n",
    "\n",
    "# date_increase = df.index[df.Close > df.Open]\n",
    "# date_decrease = df.index[df.Close > df.Open]\n",
    "\n",
    "def inc_dec(c,o):\n",
    "    if c> o:\n",
    "        value = \"Increase\"\n",
    "    elif c < o:\n",
    "        value = \"Decrease\"\n",
    "    else:\n",
    "        value = \"Equal\"    \n",
    "    return value\n",
    "df [\"Status\"]= [inc_dec(c,o) for c, o in zip(df.Close,df.Open)]\n",
    "df[\"Middle\"]= (df.Open+df.Close)/2\n",
    "df[\"Height\"]= abs( df.Close - df.Open)\n",
    "\n",
    "\n",
    "p = figure(x_axis_type='datetime', width=1000, height=300,sizing_mode = \"scale_width\")\n",
    "p.title=\"CandleStick Chart\"\n",
    "p.grid.grid_line_alpha=0.3\n",
    "\n",
    "hours_12=12*60*60*1000\n",
    "p.segment(df.index, df.High, df.index,df.Low, color=\"Black\")\n",
    "\n",
    "p.rect(df.index[df.Status == \"Increase\"], df.Middle[df.Status==\"Increase\"],\n",
    "       hours_12, df.Height[df.Status==\"Increase\"], fill_color=\"#CCFFFF\", line_color=\"black\")\n",
    "\n",
    "p.rect(df.index[df.Status == \"Decrease\"], df.Middle[df.Status==\"Decrease\"],\n",
    "       hours_12, df.Height[df.Status==\"Decrease\"], fill_color=\"#FF3333\", line_color=\"black\")\n",
    "\n",
    "output_file(\"CS.html\")\n",
    "show (p)"
   ]
  },
  {
   "cell_type": "code",
   "execution_count": null,
   "id": "4284f4be",
   "metadata": {},
   "outputs": [],
   "source": []
  }
 ],
 "metadata": {
  "kernelspec": {
   "display_name": "Python 3 (ipykernel)",
   "language": "python",
   "name": "python3"
  },
  "language_info": {
   "codemirror_mode": {
    "name": "ipython",
    "version": 3
   },
   "file_extension": ".py",
   "mimetype": "text/x-python",
   "name": "python",
   "nbconvert_exporter": "python",
   "pygments_lexer": "ipython3",
   "version": "3.9.7"
  }
 },
 "nbformat": 4,
 "nbformat_minor": 5
}
